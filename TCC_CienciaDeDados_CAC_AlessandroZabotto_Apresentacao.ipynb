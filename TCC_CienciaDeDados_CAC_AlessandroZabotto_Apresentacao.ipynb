{
 "cells": [
  {
   "cell_type": "code",
   "execution_count": null,
   "id": "3d59df5f",
   "metadata": {},
   "outputs": [],
   "source": [
    "#!pip install -U pip setuptools wheel\n",
    "#!pip install -U spacy\n",
    "#!python -m spacy download pt_core_news_sm"
   ]
  },
  {
   "cell_type": "code",
   "execution_count": null,
   "id": "b39f5293",
   "metadata": {},
   "outputs": [],
   "source": [
    "#Instalação das bibliotecas que utilizaremos\n",
    "#!pip install freetype-py\n",
    "#!pip install -U pip setuptools wheel\n",
    "#!pip install -U spacy\n",
    "#!python -m spacy download pt_core_news_sm\n",
    "#!pip install unidecode\n",
    "#!pip install wordcloud\n",
    "#!pip install folium\n",
    "#!pip install yellowbrick\n",
    "#!pip install opencv-python"
   ]
  },
  {
   "cell_type": "code",
   "execution_count": null,
   "id": "b83486ac",
   "metadata": {},
   "outputs": [],
   "source": [
    "#Principais bibliotecas Python para trabalhar com NLP e plotagem de gráficos\n",
    "import pandas as pd             #manipulação e análise de dados\n",
    "import numpy as np              #trabalhos matemáticos\n",
    "import re                       #tratamento de expressões regulares\n",
    "import nltk                     #tratamento de linguagem natural (PLN ou NPL)\n",
    "import spacy                    #mesmo conceito do nltk mais com recursos mais avançados\n",
    "import matplotlib.pyplot as plt #plotagem gráficos 2D/3D, visualizações estáticas, animadas e interativas\n",
    "import seaborn as sns           #criação de gráficos estatísticos elegantes e informativos\n",
    "import os                       #comandos do sistema operacional\n",
    "get_ipython().run_line_magic('matplotlib', 'inline')"
   ]
  },
  {
   "cell_type": "code",
   "execution_count": null,
   "id": "6134bdb6",
   "metadata": {},
   "outputs": [],
   "source": [
    "#código para inibir as mensagens do sistema (Ex.: DeprecationWarning)\n",
    "import sys\n",
    "if not sys.warnoptions:\n",
    "    import warnings\n",
    "    warnings.simplefilter(\"ignore\")"
   ]
  },
  {
   "cell_type": "code",
   "execution_count": null,
   "id": "d02928e6",
   "metadata": {},
   "outputs": [],
   "source": [
    "os.chdir('C:\\PucMinas\\TCC_CAC\\BD')  #definição do diretorio padrão onde constam os datasets"
   ]
  },
  {
   "cell_type": "code",
   "execution_count": null,
   "id": "61729028",
   "metadata": {},
   "outputs": [],
   "source": [
    "############################################## dataset CAC ##############################################################\n",
    "#\n",
    "#\n",
    "#########################################################################################################################"
   ]
  },
  {
   "cell_type": "code",
   "execution_count": null,
   "id": "76e1f5ef",
   "metadata": {},
   "outputs": [],
   "source": [
    "#leitura do dataset CAC\n",
    "dsCAC = pd.read_csv('CAC.csv', sep=\";\", encoding = 'cp1252')"
   ]
  },
  {
   "cell_type": "code",
   "execution_count": null,
   "id": "83b13041",
   "metadata": {},
   "outputs": [],
   "source": [
    "#informações gerais sobre o dataset dsCAC\n",
    "#Ex.: qtde de registros, colunas, tipo dos dados, etc.\n",
    "dsCAC.info()"
   ]
  },
  {
   "cell_type": "code",
   "execution_count": null,
   "id": "af9f80fe",
   "metadata": {},
   "outputs": [],
   "source": [
    "dsCAC.head()"
   ]
  },
  {
   "cell_type": "code",
   "execution_count": null,
   "id": "1bd9b352",
   "metadata": {},
   "outputs": [],
   "source": [
    "dsCAC.tail()"
   ]
  },
  {
   "cell_type": "code",
   "execution_count": null,
   "id": "f988fdbf",
   "metadata": {},
   "outputs": [],
   "source": [
    "#verificando quantos registros temos duplicados no dataset\n",
    "dsCAC.duplicated().value_counts()"
   ]
  },
  {
   "cell_type": "code",
   "execution_count": null,
   "id": "dc31c2a9",
   "metadata": {},
   "outputs": [],
   "source": [
    "#exclusão da coluna NrEvento\n",
    "dsCAC.drop(['NrEvento'],axis=1,inplace=True)"
   ]
  },
  {
   "cell_type": "code",
   "execution_count": null,
   "id": "62e15b86",
   "metadata": {},
   "outputs": [],
   "source": [
    "#incluindo a coluna TamDescriccao e TamExpectativaCliente com a qtde de caracteres contidos\n",
    "#em cada coluna\n",
    "dsCAC['Descricao'].fillna('',inplace=True)  #preenchendo os registros nulos\n",
    "dsCAC['ExpectativaCliente'].fillna('',inplace=True)  #preenchendo os registros nulos\n",
    "dsCAC.loc[:,'TamDescricao'] = dsCAC.Descricao.apply(lambda x: len(str(x)))\n",
    "dsCAC.loc[:,'TamExpectativaCliente'] = dsCAC.ExpectativaCliente.apply(lambda x: len(str(x)))"
   ]
  },
  {
   "cell_type": "code",
   "execution_count": null,
   "id": "ec15bf23",
   "metadata": {},
   "outputs": [],
   "source": [
    "dsCAC.head()"
   ]
  },
  {
   "cell_type": "code",
   "execution_count": null,
   "id": "7e070391",
   "metadata": {},
   "outputs": [],
   "source": [
    "#concatenado (juntando) as colunas Descricao e ExpectativaCliente\n",
    "dsCAC['ExpectativaCliente'].fillna('',inplace=True) #preenchendo os registros nulos da coluna ExpectativaCliente\n",
    "dsCAC['Descricao'] = (dsCAC['Descricao']+ \" \" + dsCAC['ExpectativaCliente']) #fazendo a concatenação\n",
    "dsCAC['Descricao'] = dsCAC.Descricao.apply(lambda x: \"\" if str(x) ==\" \" else x)"
   ]
  },
  {
   "cell_type": "code",
   "execution_count": null,
   "id": "e2d65441",
   "metadata": {},
   "outputs": [],
   "source": [
    "#atualizando a coluna TamanhoDescriccao com a qtde de caracteres contidos na coluna Descricao (após concatenação)\n",
    "dsCAC.loc[:,'TamDescricao'] = dsCAC.Descricao.apply(lambda x: len(str(x)))\n",
    "dsCAC.head()"
   ]
  },
  {
   "cell_type": "code",
   "execution_count": null,
   "id": "1fabe03a",
   "metadata": {},
   "outputs": [],
   "source": [
    "#excluindo a coluna ExpectativaCliente e TamExpectativaCliente\n",
    "dsCAC.drop(['ExpectativaCliente'],axis=1,inplace=True)\n",
    "dsCAC.drop(['TamExpectativaCliente'],axis=1,inplace=True)"
   ]
  },
  {
   "cell_type": "code",
   "execution_count": null,
   "id": "245d713d",
   "metadata": {},
   "outputs": [],
   "source": [
    "#monstrando os 5 primeiros registros\n",
    "dsCAC.head()"
   ]
  },
  {
   "cell_type": "code",
   "execution_count": null,
   "id": "b5bfc880",
   "metadata": {},
   "outputs": [],
   "source": [
    "#função para inverter a data do formto \"d/m/yyyy\" para \"yyy/m/d\"\n",
    "def AcertaData(strData):\n",
    "    strDataSplit = strData.replace(\" 00:00:00\", \"\")\n",
    "    strDataSplit = strDataSplit.split(\"/\")\n",
    "    Ano = str(strDataSplit[2])\n",
    "    Mes = str(\"0\" + strDataSplit[1])\n",
    "    Mes = Mes[-2:]\n",
    "    Dia = str(\"0\" + strDataSplit[0])\n",
    "    Dia = Dia[-2:]\n",
    "    strDataSplit = Ano + \"/\" + Mes + \"/\" + Dia\n",
    "    \n",
    "    return strDataSplit "
   ]
  },
  {
   "cell_type": "code",
   "execution_count": null,
   "id": "f270ab8c",
   "metadata": {},
   "outputs": [],
   "source": [
    "#Alterar ordem do campo data para \"aaaa/mm/dd\"\n",
    "dsCAC['Data'] = dsCAC.Data.apply(AcertaData)"
   ]
  },
  {
   "cell_type": "code",
   "execution_count": null,
   "id": "2fea1b58",
   "metadata": {},
   "outputs": [],
   "source": [
    "#mostrando 5 registro aleatórios\n",
    "dsCAC.sample(5)"
   ]
  },
  {
   "cell_type": "code",
   "execution_count": null,
   "id": "9e47f33d",
   "metadata": {},
   "outputs": [],
   "source": [
    "#converter o campo \"Data\" para formato datetime\n",
    "dsCAC['Data'] = pd.to_datetime(dsCAC['Data'])"
   ]
  },
  {
   "cell_type": "code",
   "execution_count": null,
   "id": "0eab9536",
   "metadata": {},
   "outputs": [],
   "source": [
    "dsCAC.info()"
   ]
  },
  {
   "cell_type": "code",
   "execution_count": null,
   "id": "8fdf64eb",
   "metadata": {},
   "outputs": [],
   "source": [
    "#para análise estatistica, vamos incluir duas colunas,\n",
    "#extraídas do campo \"Data\": \"Mes\" e \"Ano\"\n",
    "dsCAC.loc[:,'Mes'] = dsCAC['Data'].dt.month\n",
    "dsCAC.loc[:,'Ano'] = dsCAC['Data'].dt.year\n",
    "dsCAC.info()"
   ]
  },
  {
   "cell_type": "code",
   "execution_count": null,
   "id": "b02889eb",
   "metadata": {},
   "outputs": [],
   "source": [
    "dsCAC.head()"
   ]
  },
  {
   "cell_type": "code",
   "execution_count": null,
   "id": "95dbc0f0",
   "metadata": {},
   "outputs": [],
   "source": [
    "#Extraindo a data mais antiga e mais nova do dataset CAC\n",
    "print(dsCAC[\"Data\"].min())\n",
    "print(dsCAC[\"Data\"].max())"
   ]
  },
  {
   "cell_type": "code",
   "execution_count": null,
   "id": "701ee38b",
   "metadata": {},
   "outputs": [],
   "source": [
    "############################################## dataset RVAT #############################################################\n",
    "#\n",
    "#\n",
    "#########################################################################################################################"
   ]
  },
  {
   "cell_type": "code",
   "execution_count": null,
   "id": "941c38e8",
   "metadata": {},
   "outputs": [],
   "source": [
    "#leitura do dataset RAVT (rede de vendas e assistência técnica)\n",
    "dsRVAT = pd.read_csv('RVAT.csv', sep=\";\", encoding = 'cp1252',decimal=',')"
   ]
  },
  {
   "cell_type": "code",
   "execution_count": null,
   "id": "2b81150c",
   "metadata": {},
   "outputs": [],
   "source": [
    "#informações gerais sobre o dataset dsRVAT\n",
    "#Ex.: qtde de registros, colunas, tipo dos dados, etc.\n",
    "dsRVAT.info()"
   ]
  },
  {
   "cell_type": "code",
   "execution_count": null,
   "id": "bb5b1858",
   "metadata": {},
   "outputs": [],
   "source": [
    "#amostragem de dados utilizando o \"sample\"\n",
    "dsRVAT.sample(6)"
   ]
  },
  {
   "cell_type": "code",
   "execution_count": null,
   "id": "8a7b8d7e",
   "metadata": {},
   "outputs": [],
   "source": [
    "#ordenando o data set e retornando as UF\n",
    "dsRVAT.sort_values('UF', ascending=True, inplace=True)\n",
    "print(dsRVAT['UF'].unique())"
   ]
  },
  {
   "cell_type": "code",
   "execution_count": null,
   "id": "d8ae619c",
   "metadata": {},
   "outputs": [],
   "source": [
    "############################################## ANÁLISE E EXPLORAÇÃO DOS DADOS ###########################################\n",
    "#\n",
    "#                                                        dsCAC                                                          #\n",
    "#\n",
    "#########################################################################################################################"
   ]
  },
  {
   "cell_type": "code",
   "execution_count": null,
   "id": "2e33aef9",
   "metadata": {},
   "outputs": [],
   "source": [
    "#Verificando os segmentos do produto e serviço\n",
    "dsCAC['SegProdutoServico'].value_counts()"
   ]
  },
  {
   "cell_type": "code",
   "execution_count": null,
   "id": "9123ea68",
   "metadata": {},
   "outputs": [],
   "source": [
    "#Mantendo no dataset dsCAC somente os resgistros que são das unidades de negócio Truck ou Bus\n",
    "dsCAC = dsCAC.query('SegProdutoServico==\"Truck\" or SegProdutoServico==\"Bus\"')"
   ]
  },
  {
   "cell_type": "code",
   "execution_count": null,
   "id": "f8f1c2f3",
   "metadata": {},
   "outputs": [],
   "source": [
    "dsCAC.info()\n",
    "dsCAC['SegProdutoServico'].value_counts()"
   ]
  },
  {
   "cell_type": "code",
   "execution_count": null,
   "id": "c1156085",
   "metadata": {},
   "outputs": [],
   "source": [
    "#Demonstração gráfica do volume de atendimento por ano\n",
    "fig, ax = plt.subplots(figsize=(8,5))\n",
    "sns.countplot(data=dsCAC,x=\"Ano\",palette='rocket')\n",
    "plt.title('Atendimentos CAC por ano',fontsize=16, fontweight='bold')\n",
    "ax.set_xlabel('Ano',fontsize=16, fontweight='bold')\n",
    "ax.set_ylabel('Qtde. atendimentos',fontsize=12, fontweight='bold')\n",
    "plt.show()"
   ]
  },
  {
   "cell_type": "code",
   "execution_count": null,
   "id": "4db3d64e",
   "metadata": {},
   "outputs": [],
   "source": [
    "dsCAC_Agrup = dsCAC.copy()"
   ]
  },
  {
   "cell_type": "code",
   "execution_count": null,
   "id": "574ea7a6",
   "metadata": {},
   "outputs": [],
   "source": [
    "dsCAC_Agrup = dsCAC_Agrup.sort_values(by=['Classificacao'],ascending=True)\n",
    "dsCAC_Agrup = dsCAC_Agrup.groupby([\"Classificacao\"])\n",
    "dsCAC_Agrup.describe()"
   ]
  },
  {
   "cell_type": "code",
   "execution_count": null,
   "id": "88cccf00",
   "metadata": {},
   "outputs": [],
   "source": [
    "#Visualizando em forma gráfica os atendimentos por ano e classificação\n",
    "fix, ax = plt.subplots(figsize=(8,5))\n",
    "sns.countplot(data=dsCAC, x=\"Ano\", hue=\"Classificacao\")\n",
    "plt.grid(True, axis='y')\n",
    "plt.legend(loc = \"upper right\")\n",
    "plt.show()"
   ]
  },
  {
   "cell_type": "code",
   "execution_count": null,
   "id": "6a7e1fee",
   "metadata": {},
   "outputs": [],
   "source": [
    "#Analisando o tamanho da coluna descrição através do grafico de distribuição\n",
    "fig, ax = plt.subplots(figsize=(10,0))\n",
    "sns.set_theme(style=\"ticks\", palette=\"dark:#5A9_r\")\n",
    "sns.displot(dsCAC['TamDescricao'],height=8,kde=True)\n",
    "plt.title('Qtde. caracteres da descrição atendimento CAC', fontsize=12, fontweight='bold')"
   ]
  },
  {
   "cell_type": "code",
   "execution_count": null,
   "id": "ff5a5f90",
   "metadata": {},
   "outputs": [],
   "source": [
    "#Analisando o tamanha da coluna descrição através de diagrama de caixa\n",
    "fig, aux = plt.subplots(figsize=(15,5))\n",
    "sns.boxplot(x=dsCAC['TamDescricao'],notch=True, showcaps=True,palette=\"Set2\",\n",
    "            flierprops={\"marker\": \"x\"}, medianprops={\"color\": \"red\"})\n",
    "plt.title('Distribuição tamanho da descrição', fontsize=14, fontweight='bold')"
   ]
  },
  {
   "cell_type": "code",
   "execution_count": null,
   "id": "2dbade3c",
   "metadata": {},
   "outputs": [],
   "source": [
    "#Estatística geral da qtde caracteres da coluna Descricao\n",
    "print(\"Estatistica qtde caracteres:\")\n",
    "print(\"Mínima        : \", + dsCAC['TamDescricao'].min())\n",
    "print(\"Máxima        : \", + dsCAC['TamDescricao'].max())\n",
    "print(\"Média         : \", + int(dsCAC['TamDescricao'].mean()))\n",
    "print(\"Mediana       : \", + int(np.median(dsCAC['TamDescricao'])))\n",
    "print(\"Desvio Padrão : \", + int(np.std(dsCAC['TamDescricao'])))"
   ]
  },
  {
   "cell_type": "code",
   "execution_count": null,
   "id": "9fb7c005",
   "metadata": {},
   "outputs": [],
   "source": [
    "#fazendo uma cópia do dsCAC e retornando as descrições com tamanho = 0\n",
    "dsCAC_Estatistica = dsCAC.copy()\n",
    "dsCAC_Estatistica[dsCAC['TamDescricao']==0]"
   ]
  },
  {
   "cell_type": "code",
   "execution_count": null,
   "id": "5096f98b",
   "metadata": {},
   "outputs": [],
   "source": [
    "dsCAC_Estatistica[dsCAC['TamDescricao']==2197]"
   ]
  },
  {
   "cell_type": "code",
   "execution_count": null,
   "id": "f4781804",
   "metadata": {},
   "outputs": [],
   "source": [
    "print('Maior descrição : {}'.format(dsCAC_Estatistica.loc[13094]['Descricao']))"
   ]
  },
  {
   "cell_type": "code",
   "execution_count": null,
   "id": "977c6062",
   "metadata": {},
   "outputs": [],
   "source": [
    "############################################## ANÁLISE E EXPLORAÇÃO DOS DADOS ###########################################\n",
    "#\n",
    "#                                                        dsRVAT                                                         #\n",
    "#\n",
    "#########################################################################################################################"
   ]
  },
  {
   "cell_type": "code",
   "execution_count": null,
   "id": "aa589e17",
   "metadata": {},
   "outputs": [],
   "source": [
    "dsRVAT.info()"
   ]
  },
  {
   "cell_type": "code",
   "execution_count": null,
   "id": "0b91c09e",
   "metadata": {},
   "outputs": [],
   "source": [
    "#formato do dataset\n",
    "dsRVAT.shape"
   ]
  },
  {
   "cell_type": "code",
   "execution_count": null,
   "id": "cbbb0c66",
   "metadata": {},
   "outputs": [],
   "source": [
    "#Demonstração gráfica da qtde de RVAT por UF\n",
    "fig, ax = plt.subplots(figsize=(15,5))\n",
    "sns.countplot(data=dsRVAT,x='UF',palette='pastel')\n",
    "plt.title('Qtde. RVAT por UF',fontsize=16, fontweight='bold')\n",
    "ax.set_xlabel('UF',fontsize=16, fontweight='bold')\n",
    "ax.set_ylabel('Qtde. RVAT',fontsize=12, fontweight='bold')\n",
    "plt.grid(True, axis='y')\n",
    "plt.show()"
   ]
  },
  {
   "cell_type": "code",
   "execution_count": null,
   "id": "f9ef0bce",
   "metadata": {},
   "outputs": [],
   "source": [
    "UF_Agrupado = dsRVAT.groupby(['UF', 'Municipio'])\n",
    "UF_Agrupado.describe()"
   ]
  },
  {
   "cell_type": "code",
   "execution_count": null,
   "id": "2fc8fb46",
   "metadata": {},
   "outputs": [],
   "source": [
    "#leitura do dataset FrotaCirculante\n",
    "dsFrota = pd.read_excel(\"FrotaCirculante.xlsx\", sheet_name=\"FrotaCirculante\")\n",
    "dsFrota = dsFrota.sort_values(by=['FrotaCirculanteTotal'],ascending=False)"
   ]
  },
  {
   "cell_type": "code",
   "execution_count": null,
   "id": "a2cf5603",
   "metadata": {},
   "outputs": [],
   "source": [
    "#unindo os datasets \"RVAT\" e \"FrotaCirculante\"\n",
    "UF_GSSN = dsRVAT.groupby(['UF']).count()\n",
    "UF_GSSN = pd.DataFrame(UF_GSSN)\n",
    "dsRVAT_FC = UF_GSSN.merge(dsFrota, how = 'inner', on = 'UF')\n",
    "dsRVAT_FC.sort_values('FrotaCirculanteTotal', ascending=False, inplace=True)\n",
    "dsRVAT_FC = pd.DataFrame(dsRVAT_FC)\n",
    "dsRVAT_FC =  dsRVAT_FC[['UF','GSSN','FrotaCirculanteTotal']]\n",
    "dsRVAT_FC.columns = ['UF','Qtde_RVAT','FrotaCirculanteTotal']\n",
    "def formatar(valor):\n",
    "    return \"{:,.2f}\".format(valor)\n",
    "\n",
    "dsRVAT_FC['FrotaCirculanteTotal']=dsRVAT_FC['FrotaCirculanteTotal'].apply(formatar)\n",
    "dsRVAT_FC"
   ]
  },
  {
   "cell_type": "code",
   "execution_count": null,
   "id": "889e42c7",
   "metadata": {},
   "outputs": [],
   "source": [
    "#Demonstração gráfica da frota circulante\n",
    "fig, ax = plt.subplots(figsize=(15,5))\n",
    "ax.bar(dsFrota['UF'],dsFrota['FrotaCirculanteTotal'])\n",
    "plt.title('Frota circulante por UF: Truck e Bus',fontsize=16, fontweight='bold')\n",
    "ax.set_xlabel('UF',fontsize=12, fontweight='bold')\n",
    "ax.set_ylabel('Qtde. veículos',fontsize=12, fontweight='bold')\n",
    "plt.grid(True, axis='y')\n",
    "plt.show()"
   ]
  },
  {
   "cell_type": "code",
   "execution_count": null,
   "id": "ce93f10c",
   "metadata": {},
   "outputs": [],
   "source": [
    "############################################## ANÁLISE E EXPLORAÇÃO DOS DADOS ###########################################\n",
    "#\n",
    "#                                                        dsCAC e dsRVAT                                                 #\n",
    "#\n",
    "#########################################################################################################################"
   ]
  },
  {
   "cell_type": "code",
   "execution_count": null,
   "id": "5ead9582",
   "metadata": {},
   "outputs": [],
   "source": [
    "dsCAC.info()"
   ]
  },
  {
   "cell_type": "code",
   "execution_count": null,
   "id": "47f3ee5d",
   "metadata": {},
   "outputs": [],
   "source": [
    "dsCAC.isnull().sum()"
   ]
  },
  {
   "cell_type": "code",
   "execution_count": null,
   "id": "c4738f12",
   "metadata": {},
   "outputs": [],
   "source": [
    "#relacionando os datasets dsRVAT e dsCAC\n",
    "dsRVAT_CAC = dsRVAT.merge(dsCAC, how = 'inner', on = 'GSSN')"
   ]
  },
  {
   "cell_type": "code",
   "execution_count": null,
   "id": "f597b1d2",
   "metadata": {},
   "outputs": [],
   "source": [
    "dsRVAT_CAC.info()"
   ]
  },
  {
   "cell_type": "code",
   "execution_count": null,
   "id": "c7d6e555",
   "metadata": {},
   "outputs": [],
   "source": [
    "#display(dsRVAT_CAC)"
   ]
  },
  {
   "cell_type": "code",
   "execution_count": null,
   "id": "4f3987a0",
   "metadata": {},
   "outputs": [],
   "source": [
    "#Gerando gráfico de barras horizontais para demonstrar\n",
    "#qtde de atendimentos via CAC por UF\n",
    "dsUF_Atend = dsRVAT_CAC.groupby(by=['UF'])['GSSN'].count().reset_index()\n",
    "dsUF_Atend = dsUF_Atend.sort_values(by=['GSSN'])\n",
    "plt.figure(figsize=(10,10))\n",
    "plt.title('Atendimento CAC por UF',fontsize=16, fontweight='bold')\n",
    "plt.xlabel('Qtde.',fontsize=16,fontweight='bold')\n",
    "plt.ylabel('UF',fontsize=16,fontweight='bold')\n",
    "plt.barh(dsUF_Atend['UF'], dsUF_Atend['GSSN'], align='center')\n",
    "plt.grid(True, axis='x')"
   ]
  },
  {
   "cell_type": "code",
   "execution_count": null,
   "id": "f6a113c8",
   "metadata": {},
   "outputs": [],
   "source": [
    "###### Gerando gráfico de calor através do Folium\n",
    "#importando a biblioteca Folium\n",
    "import folium\n",
    "from folium import plugins\n",
    "from folium.plugins import HeatMap\n",
    "from branca.colormap import LinearColormap  # Create a colormap instance\n",
    "import json"
   ]
  },
  {
   "cell_type": "code",
   "execution_count": null,
   "id": "9832b165",
   "metadata": {},
   "outputs": [],
   "source": [
    "dfLatLon = pd.DataFrame(dsRVAT_CAC, columns=['Latitude','Longitude']).values.tolist()\n",
    "dsUF_Atend.rename(columns={'GSSN': 'QtdeAtend'}, inplace = True)"
   ]
  },
  {
   "cell_type": "code",
   "execution_count": null,
   "id": "806f232b",
   "metadata": {},
   "outputs": [],
   "source": [
    "#definindo ponto inicial do mapa, zoom inicial e demais parametros\n",
    "mapa = folium.Map(width='100%',height='100%', location=[-15.77972, -47.92972],\n",
    "                  zoom_start=4.45, tile='Stamen Terrain')\n",
    "colormap = LinearColormap(colors=['white', 'green','blue','yellow', 'red'],\n",
    "                          vmin=dsUF_Atend['QtdeAtend'].min(), vmax=dsUF_Atend['QtdeAtend'].max())\n",
    "colormap.caption = 'Índice de atendimento CAC nacional'\n",
    "colormap.add_to(mapa)\n",
    "\n",
    "#gerando o mapa de calor baseado na qtde de atendimentos CAC por latitude e longitude\n",
    "HeatMap(dfLatLon, radius = 15).add_to(mapa)\n",
    "\n",
    "# Criando o circulo e os tooltips com informações\n",
    "dsMun_Atend= dsRVAT_CAC.groupby(by=['UF','Municipio','Latitude','Longitude'])['GSSN'].count().reset_index()\n",
    "dsMun_Atend.rename(columns={'GSSN': 'QtdeAtend'}, inplace = True)\n",
    "\n",
    "for i in range(0, len(dsMun_Atend)):\n",
    "    folium.Circle(\n",
    "        location = [dsMun_Atend.iloc[i]['Latitude'], dsMun_Atend.iloc[i]['Longitude']],\n",
    "        color = '#000000',        \n",
    "        fill = '#00A1B3',\n",
    "        tooltip = '<li><bold> Municipio: ' + str(dsMun_Atend.iloc[i]['Municipio']) + \n",
    "        '<li><bold> Estado: ' + str(dsMun_Atend.iloc[i]['UF']) +\n",
    "        '<li><bold> Qtde. atendimentos: ' + str(int(dsMun_Atend.iloc[i]['QtdeAtend'])),\n",
    "        radius = 10\n",
    "    ).add_to(mapa)\n",
    "mapa"
   ]
  },
  {
   "cell_type": "code",
   "execution_count": null,
   "id": "d2431ac9",
   "metadata": {},
   "outputs": [],
   "source": [
    "#########################################################################################################################\n",
    "#\n",
    "#                                            Criação de Modelos de Machine Learning                                     #\n",
    "#\n",
    "#########################################################################################################################"
   ]
  },
  {
   "cell_type": "code",
   "execution_count": null,
   "id": "52c570f4",
   "metadata": {},
   "outputs": [],
   "source": [
    "# removendo os outliers do dataset dsCAC\n",
    "#dataset completo \"dsCAC\"\n",
    "print(\"Dataset completo: \", dsCAC.shape)\n",
    "\n",
    "#limite inferior do quartil\n",
    "Q1 = np.percentile(dsCAC['TamDescricao'], 25, interpolation = 'midpoint')\n",
    " \n",
    "#limite superior do quartil\n",
    "Q3 = np.percentile(dsCAC['TamDescricao'], 75, interpolation = 'midpoint')\n",
    "\n",
    "#interquartil\n",
    "IQR = Q3 - Q1\n",
    "\n",
    "#removendo os registros outliers (inferiores e superiores)\n",
    "dsCAC_SemOutliers=dsCAC[(dsCAC.TamDescricao>=int(Q1-1.5*IQR)) & (dsCAC.TamDescricao<=int(Q3+1.5*IQR))]\n",
    "dsCAC_SemOutliers = pd.DataFrame(dsCAC_SemOutliers)\n",
    "\n",
    "#dataset excluindo os outliers\n",
    "print(\"Novo dataset: \", dsCAC_SemOutliers.shape)"
   ]
  },
  {
   "cell_type": "code",
   "execution_count": null,
   "id": "d98608ab",
   "metadata": {},
   "outputs": [],
   "source": [
    "#importando as bibliotecas nltk e Spacy\n",
    "import pt_core_news_sm\n",
    "import re\n",
    "import nltk\n",
    "import unidecode\n",
    "nltk.download('stopwords')\n",
    "nltk.download('punkt')\n",
    "spc_pt = pt_core_news_sm.load()\n",
    "spc_pt = spacy.load('pt_core_news_sm')"
   ]
  },
  {
   "cell_type": "code",
   "execution_count": null,
   "id": "ded0fdcc",
   "metadata": {},
   "outputs": [],
   "source": [
    "def limpa_texto(descricao):\n",
    "    \n",
    "    #removendo todos os caracteres que não são ASCII e substituindo pelo caracter ASCII mais próximo\n",
    "    descricao_ = unidecode.unidecode(descricao)\n",
    " \n",
    "    # Remover caracteres que não são letras e tokenização\n",
    "    descricao_ =  re.findall(r'\\b[A-zÀ-úü]+\\b', descricao_.lower())\n",
    "\n",
    "    #Remover stopwords\n",
    "    stopwords = nltk.corpus.stopwords.words('portuguese')\n",
    "    \n",
    "    #Adicionando stopwords que não estão na lista origiral\n",
    "    stopwords.append(\"'\")\n",
    "    stopwords.append(\"area\")\n",
    "    stopwords.append(\"aberta\")\n",
    "    stopwords.append(\"abraco\")\n",
    "    stopwords.append(\"abraço\")\n",
    "    stopwords.append(\"veiculo\")\n",
    "    stopwords.append(\"contato\")\n",
    "    stopwords.append(\"atraves\")\n",
    "    stopwords.append(\"atrave\")\n",
    "    stopwords.append(\"cliente\")\n",
    "    stopwords.append(\"br\")\n",
    "    stopwords.append(\"km\")\n",
    "    stopwords.append(\"dia\")\n",
    "    stopwords.append(\"informar\")\n",
    "    stopwords.append(\"concessionario\")\n",
    "    stopwords.append(\"concessionaria\")\n",
    "    stopwords.append(\"conc\")\n",
    "    stop = set(stopwords)\n",
    "\n",
    "    meaningful_words = [w for w in descricao_ if w not in stopwords]\n",
    "    meaningful_words_string = \" \".join(meaningful_words)\n",
    "\n",
    "    #Instanciando o objeto spacy\n",
    "    spc_descricao_ =  spc_pt(meaningful_words_string)\n",
    "\n",
    "    #Lemmização \n",
    "    tokens = [token.lemma_ if token.pos_ == 'VERB' else str(token) for token in spc_descricao_]\n",
    "    tokens_ = tokens\n",
    "\n",
    "    #tratamento específico para o verbo \"ir\"\n",
    "    ir = ['vou', 'vais', 'vai', 'vamos', 'ides', 'vão']\n",
    "    tokens = ['ir' if token in ir else str(token) for token in tokens]\n",
    "    \n",
    "    return \" \".join(tokens)"
   ]
  },
  {
   "cell_type": "code",
   "execution_count": null,
   "id": "4f398999",
   "metadata": {},
   "outputs": [],
   "source": [
    "#aplica a função \"limpa_texto\" na coluna \"Descricao\" do dataset dsCAC_SemOutliers\n",
    "#dsCAC_SemOutliers['Descricao']=dsCAC_SemOutliers['Descricao'].apply(limpa_texto)"
   ]
  },
  {
   "cell_type": "code",
   "execution_count": null,
   "id": "a50c04a0",
   "metadata": {},
   "outputs": [],
   "source": [
    "#Gerando arquivo do dataset pre-processado\n",
    "#dsCAC_SemOutliers.to_csv('dsCAC_preprocessado.csv', sep=\";\", index= False, columns= ['Classificacao','SubClassificacao','Data','Descricao','SegProdutoServico','GSSN','TamDescricao','Mes','Ano'])"
   ]
  },
  {
   "cell_type": "code",
   "execution_count": null,
   "id": "b052a051",
   "metadata": {},
   "outputs": [],
   "source": [
    "#lendo aquivo dsCAC_SemOutliers já tratado\n",
    "dsCAC_SemOutliers = pd.read_csv('dsCAC_preprocessado.csv', sep=\";\")"
   ]
  },
  {
   "cell_type": "code",
   "execution_count": null,
   "id": "040945d4",
   "metadata": {},
   "outputs": [],
   "source": [
    "#filtrando somente os registros que possuem dados na coluna \"Descricao\"\n",
    "dsCAC_SemOutliers = dsCAC_SemOutliers[dsCAC_SemOutliers['Descricao'].notnull()]"
   ]
  },
  {
   "cell_type": "code",
   "execution_count": null,
   "id": "4eb9d4a0",
   "metadata": {},
   "outputs": [],
   "source": [
    "# Importando o CountVectorizer\n",
    "from sklearn.feature_extraction.text import CountVectorizer\n",
    "from sklearn.feature_extraction.text import TfidfTransformer\n",
    "#converte o texto em uma matrix de tokens contabilizados/contados\n",
    "#min_df=5 --> desconsiderar palavra que apareça em menos de 5 registros\n",
    "#max_df = .50 --> desconsiderar palavra que apareça em mais de 50% dos registros\n",
    "#max_features=None --> será analisado todas as “fetures”\n",
    "count_vect = CountVectorizer(min_df=5, max_df=.5, max_features=None)\n",
    "bow_vector = count_vect.fit_transform(dsCAC_SemOutliers['Descricao'])\n",
    "feature_names = count_vect.get_feature_names_out()\n",
    "\n",
    "#Transformando uma matrix contabilizada/contada em uma representação tf/tf-idf normalizada\n",
    "tfidf_transformer = TfidfTransformer().fit(bow_vector)\n",
    "\n",
    "#transformando BoW em corpus TF-IDF\n",
    "tfidf_vector = tfidf_transformer.transform(bow_vector) #train_data\n"
   ]
  },
  {
   "cell_type": "code",
   "execution_count": null,
   "id": "a9fb38a3",
   "metadata": {},
   "outputs": [],
   "source": [
    "tfidf_vector"
   ]
  },
  {
   "cell_type": "code",
   "execution_count": null,
   "id": "7c7ee6df",
   "metadata": {},
   "outputs": [],
   "source": [
    "tfidf_vector.shape[1]"
   ]
  },
  {
   "cell_type": "code",
   "execution_count": null,
   "id": "20956c61",
   "metadata": {},
   "outputs": [],
   "source": [
    "#pip install opencv-python"
   ]
  },
  {
   "cell_type": "code",
   "execution_count": null,
   "id": "06fe4336",
   "metadata": {},
   "outputs": [],
   "source": [
    "#Nuvem de palavras com \"Descricao\" do dataset dsCAC_SemOutliers\n",
    "from wordcloud import WordCloud, ImageColorGenerator\n",
    "from PIL import Image\n",
    "\n",
    "# definindo uma imagem como máscara\n",
    "mask1 = np.array(Image.open(\"MapaBrasil.png\"))\n",
    "\n",
    "font_path = \"GoldUnderTheMud-Regular.ttf\" #utilizando fonte não padrão\n",
    "text = ' '.join(texto for texto in dsCAC_SemOutliers['Descricao'])\n",
    "\n",
    "wordcloud = WordCloud(background_color=\"white\",width=1000, height=500,\n",
    "                      font_path=font_path, colormap=\"copper\",\n",
    "                      collocations = False,mask=mask1, min_word_length=3,max_words=200)\n",
    "wordcloud.generate(text)\n",
    "plt.figure(figsize=(20,15))\n",
    "plt.imshow(wordcloud)\n",
    "plt.axis(\"off\")\n",
    "plt.show()"
   ]
  },
  {
   "cell_type": "code",
   "execution_count": null,
   "id": "03da8f33",
   "metadata": {},
   "outputs": [],
   "source": [
    "#identificando as palabras mais frequentes\n",
    "from nltk.tokenize import word_tokenize\n",
    "text_ = word_tokenize(text)\n",
    "from nltk.probability import FreqDist\n",
    "fdist = FreqDist(text_)\n",
    "print(fdist.most_common(30))"
   ]
  },
  {
   "cell_type": "code",
   "execution_count": null,
   "id": "3ec581ee",
   "metadata": {},
   "outputs": [],
   "source": [
    "#Gerando arquivo do dataset pre-processado\n",
    "dsPalavrasContagem = pd.DataFrame(fdist.most_common(8000))\n",
    "dsPalavrasContagem.to_csv('dsPalavrasContagem.csv', sep=\";\", index= False)"
   ]
  },
  {
   "cell_type": "code",
   "execution_count": null,
   "id": "f741545d",
   "metadata": {},
   "outputs": [],
   "source": [
    "#plotagem do gráfico com as palavras mais frequentes\n",
    "plt.figure(figsize=(10,5))\n",
    "fd = nltk.FreqDist(text_)\n",
    "fd.plot(30, title='Palavras x Frequência', cumulative = False)"
   ]
  },
  {
   "cell_type": "code",
   "execution_count": null,
   "id": "cc025522",
   "metadata": {},
   "outputs": [],
   "source": [
    "CAC_text = nltk.Text(text_)\n",
    "CAC_text.concordance('desbloqueio')"
   ]
  },
  {
   "cell_type": "code",
   "execution_count": null,
   "id": "a5ed9d27",
   "metadata": {},
   "outputs": [],
   "source": [
    "CAC_text.similar('desbloqueio')"
   ]
  },
  {
   "cell_type": "code",
   "execution_count": null,
   "id": "e7e908d4",
   "metadata": {},
   "outputs": [],
   "source": [
    "################################## Análise da redução da dimensionalidade ##############################################\n",
    "#\n",
    "#                                                TruncatedSVD / LSA\n",
    "########################################################################################################################"
   ]
  },
  {
   "cell_type": "code",
   "execution_count": null,
   "id": "9cef1f75",
   "metadata": {},
   "outputs": [],
   "source": [
    "#redução da dimensionalidade em 3.000 componentes\n",
    "from sklearn.decomposition import TruncatedSVD\n",
    "svd=TruncatedSVD(n_components=3000)\n",
    "svd_vec=svd.fit_transform(tfidf_vector)"
   ]
  },
  {
   "cell_type": "code",
   "execution_count": null,
   "id": "2b1938fb",
   "metadata": {},
   "outputs": [],
   "source": [
    "#gerando gráfico da redução da dimensionalidade - identificação da qtde de componentes ideal\n",
    "explained_variances=[i/np.sum(svd.explained_variance_ratio_) for i in svd.explained_variance_ratio_]\n",
    "variances=[]\n",
    "temp=0\n",
    "for i in explained_variances:\n",
    "    temp=temp+i\n",
    "    variances.append(temp)\n",
    "plt.plot(variances,label='Explained Variances')\n",
    "plt.xlabel(\"explained Variances\")\n",
    "plt.show()"
   ]
  },
  {
   "cell_type": "code",
   "execution_count": null,
   "id": "f3733d81",
   "metadata": {},
   "outputs": [],
   "source": [
    "################################################# KMeans #########################################################\n",
    "#\n",
    "##################################################################################################################"
   ]
  },
  {
   "cell_type": "code",
   "execution_count": null,
   "id": "86dfe775",
   "metadata": {},
   "outputs": [],
   "source": [
    "#identificando a qtde de clusters ideal através do método do cotovelo\n",
    "from sklearn.cluster import KMeans\n",
    "wcss =[]\n",
    "for i in range (1,30):\n",
    "  kmeans = KMeans(n_clusters=i, init='k-means++', random_state=0)\n",
    "  kmeans = kmeans.fit(tfidf_vector)\n",
    "  print(i, kmeans.inertia_)\n",
    "  wcss.append(kmeans.inertia_)"
   ]
  },
  {
   "cell_type": "code",
   "execution_count": null,
   "id": "d5919ed3",
   "metadata": {},
   "outputs": [],
   "source": [
    "# MÉTODO DO COTOVELO: gerando gráfico para análise dos dados\n",
    "plt.plot(range(1,30),wcss)\n",
    "plt.title(\"Método do cotovelo\", fontweight='bold')\n",
    "plt.xlabel(\"Número de clusters\")\n",
    "plt.ylabel(\"WSS - soma dos quadrados\")\n",
    "plt.show()"
   ]
  },
  {
   "cell_type": "code",
   "execution_count": null,
   "id": "26481f95",
   "metadata": {},
   "outputs": [],
   "source": [
    "#MÉTODO DA SILHOUETTE\n",
    "from sklearn.cluster import KMeans\n",
    "from sklearn.metrics import silhouette_samples, silhouette_score\n",
    "Sil = []\n",
    "for i in range(2,30):\n",
    "    clusterer = KMeans(n_clusters=i, n_init='auto', random_state=0)\n",
    "    preds=clusterer.fit_predict(tfidf_vector)\n",
    "    score = silhouette_score(tfidf_vector, preds)\n",
    "    Sil.append(score)\n",
    "    print('Silhouette para ' + str(i) + ' clusters :' + str(score))"
   ]
  },
  {
   "cell_type": "code",
   "execution_count": null,
   "id": "a66c4a50",
   "metadata": {},
   "outputs": [],
   "source": [
    "#MÉTODO DA SILHOUETTE - gerando gráfico para análise dos dados\n",
    "plt.plot(range(2,30), Sil)\n",
    "plt.title(\"Silhouette\", fontweight = 'bold')\n",
    "plt.xlabel(\"Qtde de clusters\")\n",
    "plt.ylabel(\"Coeficiente\")\n",
    "plt.show()"
   ]
  },
  {
   "cell_type": "code",
   "execution_count": null,
   "id": "212b6eff",
   "metadata": {},
   "outputs": [],
   "source": [
    "#Treinamento do modelo\n",
    "from sklearn.cluster import KMeans\n",
    "num_clusters = 10\n",
    "kmeans = KMeans(n_clusters=num_clusters,  init='k-means++',\n",
    "                n_init=10, max_iter = 300, random_state=0)\n",
    "kmeans = kmeans.fit(tfidf_vector)\n",
    "centroides = kmeans.cluster_centers_\n",
    "labels = kmeans.labels_\n",
    "dsCAC_SemOutliers['Cluster'] = kmeans.fit_predict(tfidf_vector)"
   ]
  },
  {
   "cell_type": "code",
   "execution_count": null,
   "id": "b162568f",
   "metadata": {},
   "outputs": [],
   "source": [
    "print(dsCAC_SemOutliers['Cluster'].value_counts())"
   ]
  },
  {
   "cell_type": "code",
   "execution_count": null,
   "id": "06c51eec",
   "metadata": {},
   "outputs": [],
   "source": [
    "#Demonstração gráfica dos clusters\n",
    "fig, ax = plt.subplots(figsize=(8,5))\n",
    "sns.countplot(data=dsCAC_SemOutliers,x=\"Cluster\",palette='rocket')\n",
    "plt.title('Alocação dos atendimentos por cluster',fontsize=16, fontweight='bold')\n",
    "ax.set_xlabel('Cluster',fontsize=16, fontweight='bold')\n",
    "ax.set_ylabel('Qtde. atendimentos',fontsize=12, fontweight='bold')\n",
    "plt.grid(True, axis='y')\n",
    "plt.show()"
   ]
  },
  {
   "cell_type": "code",
   "execution_count": null,
   "id": "2f634a1c",
   "metadata": {},
   "outputs": [],
   "source": [
    "print('Palavras mais frequentes por cluster:')\n",
    "order_centroids = centroides.argsort()[:,::-1]\n",
    "terms = count_vect.get_feature_names_out()\n",
    "for i in range(10):\n",
    "    print('Cluster --> {}:'.format(i))\n",
    "    for ind in order_centroids[i,:10]:\n",
    "        print(' %s' % terms[ind],end='')\n",
    "    print()"
   ]
  },
  {
   "cell_type": "code",
   "execution_count": null,
   "id": "ba16602b",
   "metadata": {},
   "outputs": [],
   "source": [
    "fig, ax = plt.subplots(figsize=(8,5))\n",
    "sns.countplot(data=dsCAC_SemOutliers, x=\"Cluster\", hue=\"Ano\", palette='YlGnBu')\n",
    "plt.title('Quantidade de atendimentos Cluster X Ano', fontsize=16, fontweight='bold')\n",
    "ax.set_xlabel('Cluster', fontsize=12, fontweight='bold')\n",
    "ax.set_ylabel('Quantidade', fontsize=12, fontweight='bold')\n",
    "plt.show()"
   ]
  },
  {
   "cell_type": "code",
   "execution_count": null,
   "id": "09c41229",
   "metadata": {},
   "outputs": [],
   "source": [
    "#preparação do dataset \n",
    "bow_transformer = count_vect.fit(dsCAC_SemOutliers['Descricao'])\n",
    "\n",
    "print('Palavras mais frequentes por cluster:')\n",
    "order_centroids = centroides.argsort()[:,::-1]\n",
    "lista_terms=[]\n",
    "\n",
    "for i in range(0,10):\n",
    "    print('\\n Cluster {}: '.format(i))\n",
    "    for x in order_centroids[i,:10]:\n",
    "        cluster = i\n",
    "        term=feature_names[x]\n",
    "        valor = tfidf_transformer.idf_[bow_transformer.vocabulary_[term]]\n",
    "        print(term, ': ', valor)\n",
    "        lista_terms.append([i, term, valor])\n",
    "dsPalavras = pd.DataFrame(lista_terms, columns=['Cluster','Palavra', 'TF-IDF'])"
   ]
  },
  {
   "cell_type": "code",
   "execution_count": null,
   "id": "e0531b58",
   "metadata": {},
   "outputs": [],
   "source": [
    "dsPalavras"
   ]
  },
  {
   "cell_type": "code",
   "execution_count": null,
   "id": "2a42f09a",
   "metadata": {},
   "outputs": [],
   "source": [
    "dsPalavras.head(15)"
   ]
  },
  {
   "cell_type": "code",
   "execution_count": null,
   "id": "fe6bebe8",
   "metadata": {},
   "outputs": [],
   "source": [
    "#Gerando arquivo do dataset pre-processado\n",
    "dsPalavras.to_csv('dsPalavras.csv', sep=\";\", index= False, columns= ['Cluster','Palavra','TF-IDF'])"
   ]
  },
  {
   "cell_type": "code",
   "execution_count": null,
   "id": "47b2f1b3",
   "metadata": {},
   "outputs": [],
   "source": [
    "#plotagem do gráfico dos 10 clustes com suas palavras e respectivos TF-IDF\n",
    "plt.rcParams[\"figure.figsize\"] = [15.00, 12.00]\n",
    "plt.rcParams[\"figure.autolayout\"] = True\n",
    "num_linhas = 5\n",
    "num_colunas = 2\n",
    "fig, axes = plt.subplots(num_linhas,num_colunas)\n",
    "\n",
    "linha = 0\n",
    "coluna = 0\n",
    "\n",
    "for i in range(0,10):\n",
    "    sns.barplot(data=dsPalavras[dsPalavras['Cluster']==i], x='TF-IDF',y='Palavra',\n",
    "                orient='h', palette='YlGnBu',ax=axes[linha][coluna])\n",
    "    plt.title('Palavras mais frequentes no Cluster {}'.format(i), fontsize=14, fontweight='bold')\n",
    "    plt.xlabel('TF-IDF', fontsize=12, fontweight='bold')\n",
    "    plt.ylabel('Palavra', fontsize=12, fontweight='bold')\n",
    "    coluna += 1\n",
    "    if coluna == num_colunas:\n",
    "        linha += 1\n",
    "        coluna = 0   \n",
    "plt.show()    "
   ]
  },
  {
   "cell_type": "code",
   "execution_count": null,
   "id": "421676be",
   "metadata": {},
   "outputs": [],
   "source": [
    "dsPercCluster = dsCAC_SemOutliers['Cluster'].value_counts().reset_index()"
   ]
  },
  {
   "cell_type": "code",
   "execution_count": null,
   "id": "f5976e37",
   "metadata": {},
   "outputs": [],
   "source": [
    "dsPercCluster['Percentual'] = dsPercCluster['count']/dsCAC_SemOutliers.shape[0]*100"
   ]
  },
  {
   "cell_type": "code",
   "execution_count": null,
   "id": "863c9902",
   "metadata": {},
   "outputs": [],
   "source": [
    "dsPercCluster = dsPercCluster.sort_values(by=['Percentual'], ascending=False)"
   ]
  },
  {
   "cell_type": "code",
   "execution_count": null,
   "id": "1ef2e705",
   "metadata": {},
   "outputs": [],
   "source": [
    "dsPercCluster"
   ]
  },
  {
   "cell_type": "code",
   "execution_count": null,
   "id": "0715a106",
   "metadata": {},
   "outputs": [],
   "source": [
    "dsCAC_SemOutliers[dsCAC_SemOutliers['Cluster'] ==0]['Descricao'] "
   ]
  },
  {
   "cell_type": "code",
   "execution_count": null,
   "id": "2aada460",
   "metadata": {},
   "outputs": [],
   "source": [
    "dsCAC"
   ]
  },
  {
   "cell_type": "code",
   "execution_count": null,
   "id": "7f13d3f3",
   "metadata": {},
   "outputs": [],
   "source": [
    "dsCAC.groupby(by=['Classificacao','SubClassificacao'])['Data'].count().reset_index()"
   ]
  },
  {
   "cell_type": "code",
   "execution_count": null,
   "id": "2dee073a",
   "metadata": {},
   "outputs": [],
   "source": [
    "dsCAC.groupby(by=['SubClassificacao'])['Data'].count().reset_index()"
   ]
  },
  {
   "cell_type": "code",
   "execution_count": null,
   "id": "dd55abe6",
   "metadata": {},
   "outputs": [],
   "source": [
    "dsUF_Atend = dsRVAT_CAC.groupby(by=['UF'])['GSSN'].count().reset_index()"
   ]
  },
  {
   "cell_type": "code",
   "execution_count": null,
   "id": "ca83e8fa",
   "metadata": {},
   "outputs": [],
   "source": [
    "dsUF_Atend"
   ]
  },
  {
   "cell_type": "code",
   "execution_count": null,
   "id": "436ae374",
   "metadata": {},
   "outputs": [],
   "source": []
  },
  {
   "cell_type": "code",
   "execution_count": null,
   "id": "edcb52d2",
   "metadata": {},
   "outputs": [],
   "source": []
  }
 ],
 "metadata": {
  "kernelspec": {
   "display_name": "Python 3 (ipykernel)",
   "language": "python",
   "name": "python3"
  },
  "language_info": {
   "codemirror_mode": {
    "name": "ipython",
    "version": 3
   },
   "file_extension": ".py",
   "mimetype": "text/x-python",
   "name": "python",
   "nbconvert_exporter": "python",
   "pygments_lexer": "ipython3",
   "version": "3.11.4"
  }
 },
 "nbformat": 4,
 "nbformat_minor": 5
}
